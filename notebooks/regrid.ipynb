{
 "cells": [
  {
   "cell_type": "markdown",
   "id": "quantitative-compatibility",
   "metadata": {},
   "source": [
    "# `clisops` regridding functionalities - powered by `xesmf`\n",
    "\n",
    "The regridding functionalities of clisops consist of the regridding operator/function `regrid` in `clisops.ops`, allowing one-line remapping of `xarray.Datasets` or `xarray.DataArrays`, while orchestrating the use of classes and functions in `clisops.core`:\n",
    "- the `Grid` and `Weights` classes, to check and pre-process input as well as output grids and to generate the remapping weights\n",
    "- a `regrid` function, performing the remapping by applying the generated weights on the input data\n",
    "\n",
    "For the weight generation and the regridding, the [xESMF](https://github.com/pangeo-data/xESMF) `Regridder` class is used, which itself allows an easy application of many of the remapping functionalities of [ESMF](http://earthsystemmodeling.org/)/[ESMPy](https://github.com/esmf-org/esmf/blob/develop/src/addon/ESMPy/README.md).\n",
    "\n",
    "##### Imports"
   ]
  },
  {
   "cell_type": "code",
   "execution_count": null,
   "id": "civilian-hindu",
   "metadata": {},
   "outputs": [],
   "source": [
    "%matplotlib inline\n",
    "import matplotlib.pyplot as plt\n",
    "import numpy as np\n",
    "import xarray as xr\n",
    "import cf_xarray as cfxr\n",
    "import xesmf as xe\n",
    "import cartopy.crs as ccrs\n",
    "import psyplot.project as psy\n",
    "\n",
    "from pathlib import Path\n",
    "from git import Repo\n",
    "import os\n",
    "\n",
    "import clisops as cl # atm. the regrid-main-martin branch of clisops\n",
    "import clisops.ops as clops\n",
    "import clisops.core as clore\n",
    "from clisops.utils import dataset_utils\n",
    "from roocs_grids import get_grid_file, grid_dict, grid_annotations\n",
    "\n",
    "print(f\"Using cf_xarray in version {cfxr.__version__}\")\n",
    "print(f\"Using xESMF in version {xe.__version__}\")\n",
    "print(f\"Using clisops in version {cl.__version__}\")\n",
    "\n",
    "xr.set_options(display_style='html');\n",
    "\n",
    "## Turn off warnings?\n",
    "import warnings\n",
    "warnings.simplefilter(\"ignore\")"
   ]
  },
  {
   "cell_type": "markdown",
   "id": "outdoor-distributor",
   "metadata": {},
   "source": [
    "#### Initialize test data"
   ]
  },
  {
   "cell_type": "code",
   "execution_count": null,
   "id": "elder-carpet",
   "metadata": {},
   "outputs": [],
   "source": [
    "# Initialize mini-esgf-data\n",
    "MINIESGF_URL=\"https://github.com/roocs/mini-esgf-data\"\n",
    "branch = \"master\"\n",
    "MINIESGF = Path(Path.home(),\".mini-esgf-data\", branch)\n",
    "\n",
    "# Retrieve mini-esgf test data\n",
    "if not os.path.isdir(MINIESGF):\n",
    "    repo = Repo.clone_from(MINIESGF_URL, MINIESGF)\n",
    "    repo.git.checkout(branch)\n",
    "else:\n",
    "    repo = Repo(MINIESGF)\n",
    "    repo.git.checkout(branch)\n",
    "    repo.remotes[0].pull()\n",
    "    \n",
    "MINIESGF=Path(MINIESGF,\"test_data\")"
   ]
  },
  {
   "cell_type": "markdown",
   "id": "devoted-basket",
   "metadata": {},
   "source": [
    "<a id='top'></a>\n",
    "## `clisops.ops.regrid`\n",
    "\n",
    "One-line remapping with `clisops.ops.regrid`\n",
    "```python\n",
    "def regrid(\n",
    "    ds: Union[xarray.Dataset, xarray.DataArray, str, Path],\n",
    "    *,\n",
    "    method=\"nearest_s2d\",\n",
    "    adaptive_masking_threshold=0.5,\n",
    "    grid: Union[xarray.Dataset, int, float, tuple, str] = \"adaptive\",\n",
    "    output_dir: Optional[Union[str, Path]] = None,\n",
    "    output_type=\"netcdf\",\n",
    "    split_method=\"time:auto\",\n",
    "    file_namer=\"standard\",\n",
    ")    \n",
    "```\n",
    "The different options for the `method`, `grid` and `adaptive_masking_threshold` parameters are described in below sections:\n",
    "* [clisops.core.Grid](#clisops.core.Grid)\n",
    "* [clisops.core.Weights](#clisops.core.Weights)\n",
    "* [clisops.core.regrid](#clisops.core.regrid)"
   ]
  },
  {
   "cell_type": "markdown",
   "id": "loving-james",
   "metadata": {},
   "source": [
    "### Remap a global `xarray.Dataset` to a global 2.5 degree grid using the bilinear method\n",
    "\n",
    "##### Load the dataset"
   ]
  },
  {
   "cell_type": "code",
   "execution_count": null,
   "id": "psychological-immune",
   "metadata": {},
   "outputs": [],
   "source": [
    "ds_vert_path = Path(MINIESGF, \"badc/cmip6/data/CMIP6/CMIP/MPI-M/MPI-ESM1-2-LR/historical/r1i1p1f1/AERmon/\"\n",
    "                              \"o3/gn/v20190710/o3_AERmon_MPI-ESM1-2-LR_historical_r1i1p1f1_gn_185001.nc\")\n",
    "ds_vert = xr.open_dataset(ds_vert_path)\n",
    "ds_vert"
   ]
  },
  {
   "cell_type": "markdown",
   "id": "saved-weekend",
   "metadata": {},
   "source": [
    "##### Take a look at the grid"
   ]
  },
  {
   "cell_type": "code",
   "execution_count": null,
   "id": "informational-review",
   "metadata": {},
   "outputs": [],
   "source": [
    "# Create 2D coordinate variables\n",
    "lon,lat = np.meshgrid(ds_vert[\"lon\"].data, ds_vert[\"lat\"].data)\n",
    "\n",
    "# Plot\n",
    "plt.figure(figsize=(8,5))\n",
    "plt.scatter(lon[::3, ::3], lat[::3, ::3], s=0.5)  \n",
    "plt.xlabel('lon');\n",
    "plt.ylabel('lat');"
   ]
  },
  {
   "cell_type": "markdown",
   "id": "bearing-delicious",
   "metadata": {},
   "source": [
    "##### Remap to global 2.5 degree grid with the bilinear method"
   ]
  },
  {
   "cell_type": "code",
   "execution_count": null,
   "id": "flying-creativity",
   "metadata": {},
   "outputs": [],
   "source": [
    "ds_remap = clops.regrid(ds_vert, method=\"bilinear\", grid=\"2pt5deg\", output_type=\"xarray\")[0]\n",
    "ds_remap"
   ]
  },
  {
   "cell_type": "markdown",
   "id": "super-lighter",
   "metadata": {},
   "source": [
    "##### Plot the remapped data next to the source data"
   ]
  },
  {
   "cell_type": "code",
   "execution_count": null,
   "id": "otherwise-background",
   "metadata": {},
   "outputs": [],
   "source": [
    "fig, axes = plt.subplots(ncols=2, figsize=(18,4), subplot_kw={'projection': ccrs.PlateCarree()});\n",
    "for ax in axes: ax.coastlines();\n",
    "# Source data\n",
    "ds_vert.o3.isel(time=0, lev=0).plot.pcolormesh(ax=axes[0], x=\"lon\", y=\"lat\", shading=\"flat\");\n",
    "axes[0].title.set_text(\"Source\");\n",
    "# Remapped data\n",
    "ds_remap.o3.isel(time=0, lev=0).plot.pcolormesh(ax=axes[1], x=\"lon\", y=\"lat\", shading=\"flat\");\n",
    "axes[1].title.set_text(\"Target\");"
   ]
  },
  {
   "cell_type": "markdown",
   "id": "distinct-activation",
   "metadata": {},
   "source": [
    "### Remap regional `xarray.Dataset` to a regional grid of adaptive resolution using the bilinear method\n",
    "Adaptive resolution means, that the regular lat-lon target grid will have approximately the same resolution as the source grid."
   ]
  },
  {
   "cell_type": "markdown",
   "id": "bottom-vertex",
   "metadata": {},
   "source": [
    "##### Load the dataset"
   ]
  },
  {
   "cell_type": "code",
   "execution_count": null,
   "id": "million-pocket",
   "metadata": {},
   "outputs": [],
   "source": [
    "ds_cordex_path = Path(MINIESGF, \"pool/data/CORDEX/data/cordex/output/EUR-22/GERICS/MPI-M-MPI-ESM-LR/\"\n",
    "                                \"rcp85/r1i1p1/GERICS-REMO2015/v1/mon/tas/v20191029/\"\n",
    "                                \"tas_EUR-22_MPI-M-MPI-ESM-LR_rcp85_r1i1p1_GERICS-REMO2015_v1_mon_202101.nc\")\n",
    "ds_cordex = xr.open_dataset(ds_cordex_path)\n",
    "ds_cordex"
   ]
  },
  {
   "cell_type": "markdown",
   "id": "powered-hollywood",
   "metadata": {},
   "source": [
    "##### Take a look at the grid"
   ]
  },
  {
   "cell_type": "code",
   "execution_count": null,
   "id": "incomplete-freeze",
   "metadata": {},
   "outputs": [],
   "source": [
    "plt.figure(figsize=(8,5))\n",
    "plt.scatter(ds_cordex['lon'][::4, ::4], ds_cordex['lat'][::4, ::4], s=0.1)  \n",
    "plt.xlabel('lon');\n",
    "plt.ylabel('lat');"
   ]
  },
  {
   "cell_type": "markdown",
   "id": "extreme-lesson",
   "metadata": {},
   "source": [
    "##### Remap to regional regular lat-lon grid of adaptive resolution with the bilinear method"
   ]
  },
  {
   "cell_type": "code",
   "execution_count": null,
   "id": "confidential-circular",
   "metadata": {},
   "outputs": [],
   "source": [
    "ds_remap = clops.regrid(ds_cordex, method=\"bilinear\", grid=\"adaptive\", output_type=\"xarray\")[0]\n",
    "ds_remap"
   ]
  },
  {
   "cell_type": "markdown",
   "id": "static-layer",
   "metadata": {},
   "source": [
    "##### Plot the remapped data next to the source data"
   ]
  },
  {
   "cell_type": "code",
   "execution_count": null,
   "id": "contemporary-party",
   "metadata": {},
   "outputs": [],
   "source": [
    "fig, axes = plt.subplots(ncols=2, figsize=(18,4), subplot_kw={'projection': ccrs.PlateCarree()});\n",
    "for ax in axes: ax.coastlines();\n",
    "# Source data\n",
    "ds_cordex.tas.isel(time=0).plot.pcolormesh(ax=axes[0], x=\"lon\", y=\"lat\", shading=\"flat\", cmap=\"RdBu_r\");\n",
    "axes[0].title.set_text(\"Source\");\n",
    "# Remapped data\n",
    "ds_remap.tas.isel(time=0).plot.pcolormesh(ax=axes[1], x=\"lon\", y=\"lat\", shading=\"flat\", cmap=\"RdBu_r\");\n",
    "axes[1].title.set_text(\"Target\");"
   ]
  },
  {
   "cell_type": "markdown",
   "id": "acknowledged-portrait",
   "metadata": {},
   "source": [
    "### Remap unstructured `xarray.Dataset` to a global grid of adaptive resolution using the nearest neighbour method\n",
    "\n",
    "For unstructured grids, at least for the moment, only the nearest neighbour remapping method is supported.\n",
    "\n",
    "##### Load the dataset"
   ]
  },
  {
   "cell_type": "code",
   "execution_count": null,
   "id": "sorted-comparison",
   "metadata": {},
   "outputs": [],
   "source": [
    "ds_icono_path = Path(MINIESGF, \"badc/cmip6/data/CMIP6/CMIP/MPI-M/ICON-ESM-LR/historical/\"\n",
    "                               \"r1i1p1f1/Omon/thetao/gn/v20210215/\"\n",
    "                               \"thetao_Omon_ICON-ESM-LR_historical_r1i1p1f1_gn_185001.nc\")\n",
    "ds_icono = xr.open_dataset(ds_icono_path)\n",
    "ds_icono"
   ]
  },
  {
   "cell_type": "markdown",
   "id": "talented-question",
   "metadata": {},
   "source": [
    "##### Take a look at the grid"
   ]
  },
  {
   "cell_type": "code",
   "execution_count": null,
   "id": "dominant-actor",
   "metadata": {},
   "outputs": [],
   "source": [
    "plt.figure(figsize=(16,9))\n",
    "plt.scatter(ds_icono['longitude'][::2], ds_icono['latitude'][::2], s=0.05)  \n",
    "plt.xlabel('lon');\n",
    "plt.ylabel('lat');"
   ]
  },
  {
   "cell_type": "markdown",
   "id": "sensitive-premiere",
   "metadata": {},
   "source": [
    "##### Remap to global grid of adaptive resolution with the nearest neighbour method"
   ]
  },
  {
   "cell_type": "code",
   "execution_count": null,
   "id": "frequent-reservation",
   "metadata": {},
   "outputs": [],
   "source": [
    "ds_remap = clops.regrid(ds_icono, method=\"nearest_s2d\", grid=\"adaptive\", output_type=\"xarray\")[0]\n",
    "ds_remap"
   ]
  },
  {
   "cell_type": "markdown",
   "id": "after-notification",
   "metadata": {},
   "source": [
    "##### Plot source data and remapped data\n",
    "\n",
    "(Using [psyplot](https://psyplot.github.io/) to plot the unstructured data since xarray does not (yet?) support it.)"
   ]
  },
  {
   "cell_type": "code",
   "execution_count": null,
   "id": "grateful-nevada",
   "metadata": {},
   "outputs": [],
   "source": [
    "# Source data\n",
    "maps=psy.plot.mapplot(ds_icono_path, cmap=\"RdBu_r\", title=\"Source\", time=[0], lev=[0])"
   ]
  },
  {
   "cell_type": "code",
   "execution_count": null,
   "id": "aerial-chain",
   "metadata": {},
   "outputs": [],
   "source": [
    "# Remapped data\n",
    "plt.figure(figsize=(9,4));\n",
    "ax = plt.axes(projection=ccrs.PlateCarree());\n",
    "ds_remap.thetao.isel(time=0, lev=0).plot.pcolormesh(ax=ax, x=\"lon\", y=\"lat\", shading=\"flat\",\n",
    "                                                    cmap=\"RdBu_r\", vmin = -1, vmax=40);\n",
    "ax.title.set_text(\"Target\");\n",
    "ax.coastlines();"
   ]
  },
  {
   "cell_type": "markdown",
   "id": "comfortable-inflation",
   "metadata": {},
   "source": [
    "<a id='clisops.core.Grid'></a>\n",
    "## `clisops.core.Grid`\n",
    "\n",
    "<i>Scroll to the [top](#top)</i>"
   ]
  },
  {
   "cell_type": "markdown",
   "id": "atlantic-piano",
   "metadata": {},
   "source": [
    "### Create a grid object from an `xarray.Dataset`\n",
    "\n",
    "##### Load the dataset"
   ]
  },
  {
   "cell_type": "code",
   "execution_count": null,
   "id": "reasonable-trailer",
   "metadata": {},
   "outputs": [],
   "source": [
    "dso_path = Path(MINIESGF, \"badc/cmip6/data/CMIP6/CMIP/MPI-M/MPI-ESM1-2-HR/historical/r1i1p1f1/Omon/tos/gn/\"\n",
    "                          \"v20190710/tos_Omon_MPI-ESM1-2-HR_historical_r1i1p1f1_gn_185001.nc\")\n",
    "dso = xr.open_dataset(dso_path)\n",
    "dso"
   ]
  },
  {
   "cell_type": "markdown",
   "id": "surprising-sensitivity",
   "metadata": {},
   "source": [
    "##### Create the Grid object"
   ]
  },
  {
   "cell_type": "code",
   "execution_count": null,
   "id": "facial-duration",
   "metadata": {},
   "outputs": [],
   "source": [
    "grido = clore.Grid(ds=dso)\n",
    "grido"
   ]
  },
  {
   "cell_type": "markdown",
   "id": "numerical-iraqi",
   "metadata": {},
   "source": [
    "The `xarray.Dataset` is attached to the `clisops.core.Grid` object. Auxiliary coordinates and data variables have been (re)set appropriately."
   ]
  },
  {
   "cell_type": "code",
   "execution_count": null,
   "id": "blank-aruba",
   "metadata": {},
   "outputs": [],
   "source": [
    "grido.ds"
   ]
  },
  {
   "cell_type": "markdown",
   "id": "graphic-fourth",
   "metadata": {},
   "source": [
    "##### Plot the data"
   ]
  },
  {
   "cell_type": "code",
   "execution_count": null,
   "id": "received-generator",
   "metadata": {},
   "outputs": [],
   "source": [
    "plt.figure(figsize=(9,4));\n",
    "ax = plt.axes(projection=ccrs.PlateCarree());\n",
    "grido.ds.tos.isel(time=0).plot.pcolormesh(ax=ax, x=grido.lon, y=grido.lat, shading=\"flat\",\n",
    "                                          cmap=\"RdBu_r\", vmin = -1, vmax=40);\n",
    "ax.coastlines();"
   ]
  },
  {
   "cell_type": "markdown",
   "id": "adjacent-rotation",
   "metadata": {},
   "source": [
    "### Create a grid object from an `xarray.DataArray`\n",
    "\n",
    "Note that `xarray.DataArray` objects do not support the bounds of coordinate variables to be defined.\n",
    "\n",
    "##### Extract tos `DataArray`"
   ]
  },
  {
   "cell_type": "code",
   "execution_count": null,
   "id": "incredible-table",
   "metadata": {},
   "outputs": [],
   "source": [
    "dao = dso.tos\n",
    "dao"
   ]
  },
  {
   "cell_type": "markdown",
   "id": "polished-party",
   "metadata": {},
   "source": [
    "##### Create Grid object for MPIOM tos dataarray:"
   ]
  },
  {
   "cell_type": "code",
   "execution_count": null,
   "id": "documentary-sender",
   "metadata": {},
   "outputs": [],
   "source": [
    "grido_tos = clore.Grid(ds=dao)\n",
    "grido_tos"
   ]
  },
  {
   "cell_type": "markdown",
   "id": "identified-flower",
   "metadata": {},
   "source": [
    "### Create a grid object using a `grid_instructor`\n",
    "\n",
    "* global grid: `grid_instructor = (lon_step, lat_step)` or `grid_instructor = step`\n",
    "* regional grid:`grid_instructor = (lon_start, lon_end, lon_step, lat_start, lat_end, lat_step)` or `grid_instructor = (start, end, step)` "
   ]
  },
  {
   "cell_type": "code",
   "execution_count": null,
   "id": "professional-peter",
   "metadata": {},
   "outputs": [],
   "source": [
    "grid_1deg = clore.Grid(grid_instructor=1)\n",
    "grid_1deg"
   ]
  },
  {
   "cell_type": "code",
   "execution_count": null,
   "id": "processed-genetics",
   "metadata": {},
   "outputs": [],
   "source": [
    "grid_1degx2deg_regional = clore.Grid(grid_instructor=(0., 90., 1., 35., 50., 2. ))\n",
    "grid_1degx2deg_regional"
   ]
  },
  {
   "cell_type": "markdown",
   "id": "charitable-commonwealth",
   "metadata": {},
   "source": [
    "### Create a grid object using a `grid_id`\n",
    "\n",
    "Makes use of the predefined grids of `roocs_grids`, which is a collection of grids used for example for the [IPCC Atlas](https://github.com/IPCC-WG1/Atlas/tree/main/reference-grids) and for [CMIP6 Regridding Weights generation](https://docs.google.com/document/d/1BfVVsKAk9MAsOYstwFSWI2ZBt5mrO_Nmcu7rLGDuL08/edit)."
   ]
  },
  {
   "cell_type": "code",
   "execution_count": null,
   "id": "excess-consolidation",
   "metadata": {},
   "outputs": [],
   "source": [
    "for key, gridinfo in grid_annotations.items(): print(f\"- {key:20} {gridinfo}\")"
   ]
  },
  {
   "cell_type": "code",
   "execution_count": null,
   "id": "convinced-baptist",
   "metadata": {},
   "outputs": [],
   "source": [
    "grid_era5 = clore.Grid(grid_id = \"0pt25deg_era5\")\n",
    "grid_era5"
   ]
  },
  {
   "cell_type": "markdown",
   "id": "hollywood-study",
   "metadata": {},
   "source": [
    "### `clisops.core.Grid` objects can be compared to one another\n",
    "\n",
    "Optional verbose output gives information on where the grids differ: lat, lon, lat_bnds, lon_bnds, mask?\n",
    "\n",
    "##### Compare the tos dataset to the tos dataarray"
   ]
  },
  {
   "cell_type": "code",
   "execution_count": null,
   "id": "stuffed-syracuse",
   "metadata": {},
   "outputs": [],
   "source": [
    "comp = grido.compare_grid(grido_tos, verbose = True)\n",
    "print(\"Grids are equal?\", comp)"
   ]
  },
  {
   "cell_type": "markdown",
   "id": "changed-wells",
   "metadata": {},
   "source": [
    "##### Compare both 0.25° ERA5 Grids"
   ]
  },
  {
   "cell_type": "code",
   "execution_count": null,
   "id": "overhead-collins",
   "metadata": {},
   "outputs": [],
   "source": [
    "# Create the Grid object\n",
    "grid_era5_lsm = clore.Grid(grid_id = \"0pt25deg_era5_lsm\", compute_bounds=True)"
   ]
  },
  {
   "cell_type": "code",
   "execution_count": null,
   "id": "exact-retention",
   "metadata": {},
   "outputs": [],
   "source": [
    "# Compare\n",
    "comp = grid_era5.compare_grid(grid_era5_lsm, verbose=True)\n",
    "print(\"Grids are equal?\", comp)"
   ]
  },
  {
   "cell_type": "markdown",
   "id": "practical-sponsorship",
   "metadata": {},
   "source": [
    "### Strip `clisops.core.Grid` objects of all `data_vars` and `coords` unrelated to the horizontal grid"
   ]
  },
  {
   "cell_type": "code",
   "execution_count": null,
   "id": "architectural-application",
   "metadata": {},
   "outputs": [],
   "source": [
    "grid_era5_lsm.ds"
   ]
  },
  {
   "cell_type": "markdown",
   "id": "thrown-command",
   "metadata": {},
   "source": [
    "The parameter `keep_attrs` can be set, the default is `False`."
   ]
  },
  {
   "cell_type": "code",
   "execution_count": null,
   "id": "retired-assist",
   "metadata": {},
   "outputs": [],
   "source": [
    "grid_era5_lsm._drop_vars(keep_attrs=False)\n",
    "grid_era5_lsm.ds"
   ]
  },
  {
   "cell_type": "markdown",
   "id": "communist-breast",
   "metadata": {},
   "source": [
    "### Transfer coordinate variables between `clisops.core.Grid` objects that are unrelated to the horizontal grid\n",
    "\n",
    "The parameter `keep_attrs` can be set, the default is `True`. All settings for `keep_attrs` are described later in section [clisops.core.regrid](#clisops.core.regrid).\n",
    "\n",
    "##### Load the dataset"
   ]
  },
  {
   "cell_type": "code",
   "execution_count": null,
   "id": "metallic-cisco",
   "metadata": {},
   "outputs": [],
   "source": [
    "ds_vert_path = Path(MINIESGF, \"badc/cmip6/data/CMIP6/CMIP/MPI-M/MPI-ESM1-2-LR/historical/r1i1p1f1/\"\n",
    "                              \"AERmon/o3/gn/v20190710/o3_AERmon_MPI-ESM1-2-LR_historical_r1i1p1f1_gn_185001.nc\")\n",
    "ds_vert = xr.open_dataset(ds_vert_path)\n",
    "ds_vert"
   ]
  },
  {
   "cell_type": "markdown",
   "id": "active-gentleman",
   "metadata": {},
   "source": [
    "##### Create grid object"
   ]
  },
  {
   "cell_type": "code",
   "execution_count": null,
   "id": "seven-manufacturer",
   "metadata": {},
   "outputs": [],
   "source": [
    "grid_vert = clore.Grid(ds_vert)\n",
    "grid_vert"
   ]
  },
  {
   "cell_type": "markdown",
   "id": "alpha-while",
   "metadata": {},
   "source": [
    "##### Transfer the coordinates to the ERA5 grid object"
   ]
  },
  {
   "cell_type": "code",
   "execution_count": null,
   "id": "fewer-pension",
   "metadata": {},
   "outputs": [],
   "source": [
    "grid_era5_lsm._transfer_coords(grid_vert, keep_attrs=True)\n",
    "grid_era5_lsm.ds"
   ]
  },
  {
   "cell_type": "markdown",
   "id": "changed-steps",
   "metadata": {},
   "source": [
    "<a id='clisops.core.Weights'></a>\n",
    "## `clisops.core.Weights`\n",
    "<i>Scroll to the [top](#top)</i>\n",
    "\n",
    "Create regridding weights to regrid between two grids. Supported are the following of [xESMF's remapping methods](https://pangeo-xesmf.readthedocs.io/en/latest/notebooks/Compare_algorithms.html):\n",
    "* `nearest_s2d`\n",
    "* `bilinear`\n",
    "* `conservative`\n",
    "* `patch`"
   ]
  },
  {
   "cell_type": "markdown",
   "id": "cathedral-policy",
   "metadata": {},
   "source": [
    "##### Create 2-degree target grid"
   ]
  },
  {
   "cell_type": "code",
   "execution_count": null,
   "id": "catholic-figure",
   "metadata": {},
   "outputs": [],
   "source": [
    "grid_2deg = clore.Grid(grid_id=\"2deg_lsm\", compute_bounds=True)\n",
    "grid_2deg"
   ]
  },
  {
   "cell_type": "markdown",
   "id": "israeli-converter",
   "metadata": {},
   "source": [
    "##### Create conservative remapping weights using the `clisops.core.Weights` class\n",
    "`grid_in` and `grid_out` are `Grid` objects"
   ]
  },
  {
   "cell_type": "code",
   "execution_count": null,
   "id": "hired-parliament",
   "metadata": {},
   "outputs": [],
   "source": [
    "%time weights = clore.Weights(grid_in = grido, grid_out = grid_2deg, method=\"conservative\")"
   ]
  },
  {
   "cell_type": "markdown",
   "id": "whole-variety",
   "metadata": {},
   "source": [
    "##### Local weights cache\n",
    "\n",
    "Weights are cached on disk and do not have to be created more than once. The default cache directory is `/tmp/clisops_grid_weights` and should be adjusted either in the `roocs.ini` configuration file that can be found in the clisops installation directory or via:\n",
    "```python\n",
    "from clisops import core as clore\n",
    "clore.weights_cache_init(\"/dir/for/weights/cache\")\n",
    "```"
   ]
  },
  {
   "cell_type": "code",
   "execution_count": null,
   "id": "included-valley",
   "metadata": {},
   "outputs": [],
   "source": [
    "!ls -sh /tmp/clisops_grid_weights"
   ]
  },
  {
   "cell_type": "code",
   "execution_count": null,
   "id": "interested-still",
   "metadata": {},
   "outputs": [],
   "source": [
    "!cat /tmp/clisops_grid_weights/weights_*_conservative.json"
   ]
  },
  {
   "cell_type": "markdown",
   "id": "solar-mountain",
   "metadata": {},
   "source": [
    "Now the weights will be read directly from the cache"
   ]
  },
  {
   "cell_type": "code",
   "execution_count": null,
   "id": "selected-desktop",
   "metadata": {},
   "outputs": [],
   "source": [
    "%time weights = clore.Weights(grid_in = grido, grid_out = grid_2deg, method=\"conservative\")"
   ]
  },
  {
   "cell_type": "markdown",
   "id": "strange-margin",
   "metadata": {},
   "source": [
    "The weights cache can be flushed, which removes all weight and grid files as well as the json files holding the metadata. To see what would be removed, one can use the `dryrun=True` parameter. To re-initialize the weights cache in a different directory, one can use the `weights_dir_init=\"/new/dir/for/weights/cache\"` parameter. Even when re-initializing the weights cache under a new path, using `clore.weights_cache_flush`, no directory is getting removed, only above listed files. When `dryrun` is not set, the files that are getting deleted can be displayed with `verbose=True`."
   ]
  },
  {
   "cell_type": "code",
   "execution_count": null,
   "id": "innocent-token",
   "metadata": {},
   "outputs": [],
   "source": [
    "clore.weights_cache_flush(dryrun=True)"
   ]
  },
  {
   "cell_type": "code",
   "execution_count": null,
   "id": "gorgeous-marble",
   "metadata": {},
   "outputs": [],
   "source": [
    "clore.weights_cache_flush(verbose=True)"
   ]
  },
  {
   "cell_type": "markdown",
   "id": "complimentary-costa",
   "metadata": {},
   "source": [
    "<a id='clisops.core.regrid'></a>\n",
    "## `clisops.core.regrid`\n",
    "<i>Scroll to the [top](#top)</i>\n",
    "\n",
    "This function allows to perform the eventual regridding and provides a resulting `xarray.Dataset`\n",
    "\n",
    "```python\n",
    "def regrid(grid_in, grid_out, weights, adaptive_masking_threshold=0.5, keep_attrs=True):\n",
    "```\n",
    "\n",
    "* `grid_in` and `grid_out` are `Grid` objects, `weights` is a `Weights` object.\n",
    "* `adaptive_masking_threshold` (AMT) A value within the [0., 1.] interval that defines the maximum `RATIO` of missing_values amongst the total number of data values contributing to the calculation of the target grid cell value. For a fraction [0., AMT[ of the contributing source data missing, the target grid cell will be set to missing_value, else, it will be renormalized by the factor `1./(1.-RATIO)`. Thus, if AMT is set to 1, all source grid cells that contribute to a target grid cell must be missing in order for the target grid cell to be defined as missing itself. Values greater than 1 or less than 0 will cause adaptive masking to be turned off. This adaptive masking technique allows to reuse generated weights for differently masked data (eg. land-sea masks or orographic masks that vary with depth / height).\n",
    "*`keep_attrs` can have the following settings:\n",
    "  * `True` : The resulting `xarray.Dataset` will have all attributes of `grid_in.ds.attrs`, despite attributes that have to be added and altered due to the new grid. \n",
    "  * `False` : The resulting `xarray.Dataset` will have no attributes despite attributes generated by the regridding process.\n",
    "  * `\"target\"` : The resulting `xarray.Dataset` will have all attributes of `grid_out.ds.attrs`, despite attributes generated by the regridding process. Not recommended.\n",
    "  \n",
    "  \n",
    "#### In the following an example showing the function application and the effect of the adaptive masking."
   ]
  },
  {
   "cell_type": "code",
   "execution_count": null,
   "id": "physical-range",
   "metadata": {},
   "outputs": [],
   "source": [
    "ds_out_amt0 = clore.regrid(grido, grid_2deg, weights, adaptive_masking_threshold=-1)"
   ]
  },
  {
   "cell_type": "code",
   "execution_count": null,
   "id": "acute-coast",
   "metadata": {},
   "outputs": [],
   "source": [
    "ds_out_amt1 = clore.regrid(grido, grid_2deg, weights, adaptive_masking_threshold=0.5)"
   ]
  },
  {
   "cell_type": "markdown",
   "id": "sudden-possession",
   "metadata": {},
   "source": [
    "##### Plot the resulting data"
   ]
  },
  {
   "cell_type": "code",
   "execution_count": null,
   "id": "worldwide-surface",
   "metadata": {},
   "outputs": [],
   "source": [
    "# Create panel plot of regridded data (global)\n",
    "fig, axes = plt.subplots(ncols=2, nrows=1, \n",
    "                         figsize=(18, 5), # global\n",
    "                         subplot_kw={'projection': ccrs.PlateCarree()})\n",
    "\n",
    "ds_out_amt0[\"tos\"].isel(time=0).plot.pcolormesh(ax=axes[0], vmin=0, vmax=30, cmap=\"plasma\");\n",
    "axes[0].title.set_text(\"Target - No adaptive masking\");\n",
    "\n",
    "ds_out_amt1[\"tos\"].isel(time=0).plot.pcolormesh(ax=axes[1], vmin=0, vmax=30, cmap=\"plasma\");\n",
    "axes[1].title.set_text(\"Target - Adaptive masking\");\n",
    "\n",
    "for axis in axes.flatten():\n",
    "    axis.coastlines();\n",
    "    axis.set_xlabel('lon');\n",
    "    axis.set_ylabel('lat');"
   ]
  },
  {
   "cell_type": "code",
   "execution_count": null,
   "id": "relevant-drove",
   "metadata": {},
   "outputs": [],
   "source": [
    "# Create panel plot of regridded data (Japan)\n",
    "fig, axes = plt.subplots(ncols=3, nrows=1, \n",
    "                         figsize=(18, 4), # Japan\n",
    "                         subplot_kw={'projection': ccrs.PlateCarree()})\n",
    "\n",
    "grido.ds.tos.isel(time=0).plot.pcolormesh(ax=axes[0], x=grido.lon, y=grido.lat, \n",
    "                                          vmin=0, vmax=30, cmap=\"plasma\", shading=\"flat\");\n",
    "axes[0].title.set_text(\"Source\");\n",
    "\n",
    "ds_out_amt0[\"tos\"].isel(time=0).plot.pcolormesh(ax=axes[1], vmin=0, vmax=30, cmap=\"plasma\");\n",
    "axes[1].title.set_text(\"Target - No adaptive masking\");\n",
    "\n",
    "ds_out_amt1[\"tos\"].isel(time=0).plot.pcolormesh(ax=axes[2], vmin=0, vmax=30, cmap=\"plasma\");\n",
    "axes[2].title.set_text(\"Target - Adaptive masking\");\n",
    "\n",
    "for axis in axes.flatten():\n",
    "    axis.coastlines();\n",
    "    axis.set_xlabel('lon');\n",
    "    axis.set_ylabel('lat');\n",
    "    axis.set_xlim([125, 150]);\n",
    "    axis.set_ylim([25, 50]);"
   ]
  },
  {
   "cell_type": "code",
   "execution_count": null,
   "id": "f82cb5eb",
   "metadata": {},
   "outputs": [],
   "source": []
  }
 ],
 "metadata": {
  "kernelspec": {
   "display_name": "Python 3",
   "language": "python",
   "name": "python3"
  },
  "language_info": {
   "codemirror_mode": {
    "name": "ipython",
    "version": 3
   },
   "file_extension": ".py",
   "mimetype": "text/x-python",
   "name": "python",
   "nbconvert_exporter": "python",
   "pygments_lexer": "ipython3",
   "version": "3.9.7"
  }
 },
 "nbformat": 4,
 "nbformat_minor": 5
}
