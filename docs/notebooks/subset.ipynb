{
 "cells": [
  {
   "cell_type": "markdown",
   "metadata": {
    "keep_output": true
   },
   "source": [
    "Subsetting utilities\n",
    "================\n",
    "\n",
    "`clisops` comes with some utilities to perform common tasks that are either not implemented in xarray, or that are implemented but do not have the generality needed for climate science work. Here we show examples of the `clisops.core.subset` submodule."
   ]
  },
  {
   "cell_type": "code",
   "execution_count": null,
   "metadata": {
    "keep_output": true
   },
   "outputs": [],
   "source": [
    "import xarray as xr\n",
    "xr.set_options(display_style='html')\n",
    "from clisops import subset\n",
    "%matplotlib inline"
   ]
  },
  {
   "cell_type": "code",
   "execution_count": null,
   "metadata": {
    "keep_output": true
   },
   "outputs": [],
   "source": [
    "ds = xr.tutorial.open_dataset('air_temperature')\n",
    "ds.coords"
   ]
  },
  {
   "cell_type": "code",
   "execution_count": null,
   "metadata": {
    "keep_output": true
   },
   "outputs": [],
   "source": [
    "ds.air.isel(time=0).plot()  # Simple index-selection with xarray"
   ]
  },
  {
   "cell_type": "markdown",
   "metadata": {
    "keep_output": true
   },
   "source": [
    "## subset_bbox : using a latitude-longitude bounding box\n",
    "\n",
    "In the previous example notebook, we used xarray's `.sel()` to cut a lat-lon subset of our data. clisops offers the same utility, but with more generality. For example, if we mindlessly try xarray's method on our dataset:"
   ]
  },
  {
   "cell_type": "code",
   "execution_count": null,
   "metadata": {
    "keep_output": true
   },
   "outputs": [],
   "source": [
    "ds.sel(lat=slice(45, 50), lon=slice(-60, -55)).coords"
   ]
  },
  {
   "cell_type": "markdown",
   "metadata": {
    "keep_output": true
   },
   "source": [
    "As you can see, `lat` and `lon` are empty. In this dataset, the lats are defined in descending order and lons are in the range \\[0, 360[ instead of [-180, 180[, which is why xarray's method did not return the expected result. clisops understands these nuances:"
   ]
  },
  {
   "cell_type": "code",
   "execution_count": null,
   "metadata": {
    "keep_output": true
   },
   "outputs": [],
   "source": [
    "subset.subset_bbox(ds, lat_bnds=[45, 50], lon_bnds=[-60, -55]).coords"
   ]
  },
  {
   "cell_type": "markdown",
   "metadata": {
    "keep_output": true
   },
   "source": [
    "### When lat and lon are 2-D\n",
    "`subset_bbox` also manages cases where the lat-lon coordinates are not sorted 1D vectors, for example with this more complex dataset:\n",
    "\n",
    "<div class=\"alert alert-warning\">\n",
    "\n",
    "Most `subset` methods expect the input dataset / dataarray to have `lat` and `lon` as variables. It may be able to understand your data if other common names are used (like `latitude`, or `lons`), but we recommend renaming the variables before using the tool (like in this example).\n",
    "\n",
    "</div>"
   ]
  },
  {
   "cell_type": "code",
   "execution_count": null,
   "metadata": {
    "keep_output": true
   },
   "outputs": [],
   "source": [
    "ds_roms = xr.tutorial.open_dataset('ROMS_example').rename(lon_rho='lon', lat_rho='lat')\n",
    "salt = ds_roms.salt.isel(ocean_time=0, s_rho=0)\n",
    "\n",
    "# import plotting stuff\n",
    "import matplotlib.pyplot as plt\n",
    "plt.style.use('seaborn')\n",
    "plt.rcParams['figure.figsize'] = (13, 5)\n",
    "\n",
    "fig, (axEtaXi, axLatLon) = plt.subplots(1, 2)\n",
    "salt.plot(cmap=plt.cm.gray_r, ax=axEtaXi, add_colorbar=False)\n",
    "axLatLon.pcolormesh(salt.lon, salt.lat, salt)\n",
    "axLatLon.set_xlabel(salt.lon.long_name)\n",
    "axLatLon.set_ylabel(salt.lat.long_name)"
   ]
  },
  {
   "cell_type": "code",
   "execution_count": null,
   "metadata": {
    "keep_output": true
   },
   "outputs": [],
   "source": [
    "salt_bb = subset.subset_bbox(salt, lat_bnds=[28, 30], lon_bnds=[-91, -88])\n",
    "\n",
    "fig, (axEtaXi, axLatLon) = plt.subplots(1, 2)\n",
    "salt_bb.plot(cmap=plt.cm.gray_r, ax=axEtaXi, add_colorbar=False)\n",
    "axLatLon.pcolormesh(salt_bb.lon, salt_bb.lat, salt_bb)\n",
    "axLatLon.set_xlabel(salt_bb.lon.long_name)\n",
    "axLatLon.set_ylabel(salt_bb.lat.long_name)"
   ]
  },
  {
   "cell_type": "markdown",
   "metadata": {
    "keep_output": true
   },
   "source": [
    "### Add time subsetting\n",
    "`subset_bbox` and other methods of the submodule give options to also give time bounds. These options are mostly for convenience as only some basics sanity checks are performed."
   ]
  },
  {
   "cell_type": "code",
   "execution_count": null,
   "metadata": {
    "keep_output": true
   },
   "outputs": [],
   "source": [
    "subset.subset_bbox(ds, lat_bnds=[45, 50], lon_bnds=[-60, -55],\n",
    "                       start_date='2013-02', end_date='2013-08').coords"
   ]
  },
  {
   "cell_type": "markdown",
   "metadata": {
    "keep_output": true
   },
   "source": [
    "## subset_gridpoint :  Selecting grid points\n",
    "`subset_gridpoint` can be used for selecting single locations. Compared to `.sel()`, this method adds a `tolerance` parameter in *meters* so that it finds the nearest point from the given coordinate within this distance, or else it returns `NaN`."
   ]
  },
  {
   "cell_type": "code",
   "execution_count": null,
   "metadata": {
    "keep_output": true
   },
   "outputs": [],
   "source": [
    "lon_pt = -70.2\n",
    "lat_pt = 50.1\n",
    "\n",
    "# Get timeseries for point within 100 km of (-70.2, 50.1)\n",
    "ds3 = subset.subset_gridpoint(ds, lon=lon_pt, lat=lat_pt, tolerance=100 * 1000)\n",
    "ds3.coords"
   ]
  },
  {
   "cell_type": "code",
   "execution_count": null,
   "metadata": {
    "keep_output": true
   },
   "outputs": [],
   "source": [
    "ds3.air.plot()"
   ]
  },
  {
   "cell_type": "markdown",
   "metadata": {},
   "source": [
    "This also works with a list of coordinates. In that case, a new dimension `site` concatenates the selected gridpoints. Moreover, passing `add_distance = True` allows us to inspect how close the selected gridpoints were from the requested coordinates. In this example, the third point (-90, 54.1) is a little bit further than 100 km from the nearest gridpoint, so the coordinate of this gridpoint and the distance are returned, but the values are masked with NaN (and thus they do not appear on the graph)."
   ]
  },
  {
   "cell_type": "code",
   "execution_count": null,
   "metadata": {},
   "outputs": [],
   "source": [
    "lon_pt = [-65, -70.2, -90]\n",
    "lat_pt = [45, 50.1, 54.1]\n",
    "\n",
    "# Get timeseries for point within 100 km of each points\n",
    "ds3 = subset.subset_gridpoint(ds, lon=lon_pt, lat=lat_pt, tolerance=100 * 1000, add_distance=True)\n",
    "print(ds3.coords)\n",
    "ds3.air.plot(hue='site')"
   ]
  },
  {
   "cell_type": "markdown",
   "metadata": {
    "keep_output": true
   },
   "source": [
    "## subset_shape : Selecting a region from a polygon\n",
    "If the region we want to keep in our dataset is complex, we can use `subset_shape` and pass a polygon. The input shape can be any georeferenced data file understood by [geopandas](http://geopandas.org/) and [fiona](https://fiona.readthedocs.io/en/latest/) that run under the hood. For example here with a geojson file of Canada available online:"
   ]
  },
  {
   "cell_type": "code",
   "execution_count": null,
   "metadata": {
    "keep_output": true
   },
   "outputs": [],
   "source": [
    "ds_can = subset.subset_shape(ds, 'https://raw.githubusercontent.com/johan/world.geo.json/master/countries/CAN.geo.json')\n",
    "\n",
    "fig, (axall, axcan) = plt.subplots(1, 2)\n",
    "ds.air.isel(time=0).plot(ax=axall)\n",
    "ds_can.air.isel(time=0).plot(ax=axcan)"
   ]
  },
  {
   "cell_type": "markdown",
   "metadata": {
    "keep_output": true
   },
   "source": [
    "We can also create a mask to divide the data in regions. In the example, we load the shapes for Canada, Mexico and the US, merge them with pandas and then create the mask. `create_mask` is a bit more restrictive than the other methods showed here and specifically asks for the `x` and `y` dims. Also, we need to pass `wrap_lons=True` since our longitudes go from 0 to 360 instead of -180 to 180."
   ]
  },
  {
   "cell_type": "code",
   "execution_count": null,
   "metadata": {
    "keep_output": true
   },
   "outputs": [],
   "source": [
    "import pandas as pd\n",
    "import geopandas as gpd\n",
    "can = gpd.read_file('https://raw.githubusercontent.com/johan/world.geo.json/master/countries/CAN.geo.json')\n",
    "usa = gpd.read_file('https://raw.githubusercontent.com/johan/world.geo.json/master/countries/USA.geo.json')\n",
    "mex = gpd.read_file('https://raw.githubusercontent.com/johan/world.geo.json/master/countries/MEX.geo.json')\n",
    "northam = pd.concat([can, usa, mex]).reset_index()"
   ]
  },
  {
   "cell_type": "code",
   "execution_count": null,
   "metadata": {
    "keep_output": true
   },
   "outputs": [],
   "source": [
    "mask = subset.create_mask(x_dim=ds.lon, y_dim=ds.lat, poly=northam, wrap_lons=True)"
   ]
  },
  {
   "cell_type": "code",
   "execution_count": null,
   "metadata": {
    "keep_output": true
   },
   "outputs": [],
   "source": [
    "mask.T.plot() # The transpose is needed because create_mask returns lon, lat instead the input lat, lon."
   ]
  },
  {
   "cell_type": "markdown",
   "metadata": {
    "keep_output": true
   },
   "source": [
    "The same can be done with 2D lat/lon coordinates. Here get the regions of `salt` that are within the boundaries of the US as defined in our geojson data. As our data comes from a small region in the Gulf of Mexico and our USA mask is quite coarse, the following isn't really helpful. In any case, it illustrates what can be done with clisops."
   ]
  },
  {
   "cell_type": "code",
   "execution_count": null,
   "metadata": {
    "keep_output": true
   },
   "outputs": [],
   "source": [
    "usa_mask = subset.create_mask(x_dim=salt.lon, y_dim=salt.lat, poly=usa)"
   ]
  },
  {
   "cell_type": "code",
   "execution_count": null,
   "metadata": {
    "keep_output": true
   },
   "outputs": [],
   "source": [
    "salt.plot()\n",
    "usa_mask.plot(cmap=plt.cm.Blues_r, add_colorbar=False)"
   ]
  }
 ],
 "metadata": {
  "keep_output": true,
  "kernelspec": {
   "display_name": "Python 3",
   "language": "python",
   "name": "python3"
  },
  "language_info": {
   "codemirror_mode": {
    "name": "ipython",
    "version": 3
   },
   "file_extension": ".py",
   "mimetype": "text/x-python",
   "name": "python",
   "nbconvert_exporter": "python",
   "pygments_lexer": "ipython3",
   "version": "3.8.2"
  },
  "nbsphinx": {
   "execute": "never"
  }
 },
 "nbformat": 4,
 "nbformat_minor": 4
}
