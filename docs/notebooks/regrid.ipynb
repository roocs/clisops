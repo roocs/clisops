{
 "cells": [
  {
   "cell_type": "markdown",
   "id": "eb091c4d",
   "metadata": {},
   "source": [
    "# `clisops` regridding functionalities - powered by `xesmf`\n",
    "\n",
    "The regridding functionalities of clisops consist of the regridding operator/function `regrid` in `clisops.ops`, allowing one-line remapping of `xarray.Datasets` or `xarray.DataArrays`, while orchestrating the use of classes and functions in `clisops.core`:\n",
    "- the `Grid` and `Weights` classes, to check and pre-process input as well as output grids and to generate the remapping weights\n",
    "- a `regrid` function, performing the remapping by applying the generated weights on the input data\n",
    "\n",
    "For the weight generation and the regridding, the [xESMF](https://github.com/pangeo-data/xESMF) `Regridder` class is used, which itself allows an easy application of many of the remapping functionalities of [ESMF](https://earthsystemmodeling.org/)/[ESMPy](https://github.com/esmf-org/esmf/blob/develop/src/addon/ESMPy/README.md)."
   ]
  },
  {
   "cell_type": "code",
   "execution_count": null,
   "id": "2f2f10f5",
   "metadata": {},
   "outputs": [],
   "source": [
    "# Imports\n",
    "\n",
    "%matplotlib inline\n",
    "import matplotlib.pyplot as plt\n",
    "import cartopy.crs as ccrs\n",
    "import psyplot.project as psy\n",
    "import numpy as np\n",
    "import xarray as xr\n",
    "import cf_xarray as cfxr\n",
    "\n",
    "from pathlib import Path\n",
    "from git import Repo\n",
    "# Set required environment variable for ESMPy\n",
    "import os \n",
    "os.environ['ESMFMKFILE'] = str(Path(os.__file__).parent.parent / 'esmf.mk')\n",
    "import xesmf as xe\n",
    "\n",
    "import clisops as cl # atm. the regrid-main-martin branch of clisops\n",
    "import clisops.ops as clops\n",
    "import clisops.core as clore\n",
    "from clisops.utils import dataset_utils\n",
    "from roocs_grids import get_grid_file, grid_dict, grid_annotations\n",
    "\n",
    "print(f\"Using xarray in version {xr.__version__}\")\n",
    "print(f\"Using cf_xarray in version {cfxr.__version__}\")\n",
    "print(f\"Using xESMF in version {xe.__version__}\")\n",
    "print(f\"Using clisops in version {cl.__version__}\")\n",
    "\n",
    "xr.set_options(display_style='html')\n",
    "\n",
    "## Turn off warnings?\n",
    "import warnings\n",
    "warnings.simplefilter(\"ignore\")"
   ]
  },
  {
   "cell_type": "code",
   "execution_count": null,
   "id": "5fcad6b4",
   "metadata": {},
   "outputs": [],
   "source": [
    "# Initialize test data\n",
    "\n",
    "# Initialize mini-esgf-data\n",
    "MINIESGF_URL=\"https://github.com/roocs/mini-esgf-data\"\n",
    "branch = \"master\"\n",
    "MINIESGF = Path(Path.home(),\".mini-esgf-data\", branch)\n",
    "\n",
    "# Retrieve mini-esgf test data\n",
    "if not os.path.isdir(MINIESGF):\n",
    "    repo = Repo.clone_from(MINIESGF_URL, MINIESGF)\n",
    "    repo.git.checkout(branch)\n",
    "else:\n",
    "    repo = Repo(MINIESGF)\n",
    "    repo.git.checkout(branch)\n",
    "    repo.remotes[0].pull()\n",
    "    \n",
    "MINIESGF=Path(MINIESGF,\"test_data\")"
   ]
  },
  {
   "cell_type": "markdown",
   "id": "edb25e1f",
   "metadata": {},
   "source": [
    "## `clisops.ops.regrid`\n",
    "\n",
    "One-line remapping with `clisops.ops.regrid`\n",
    "```python\n",
    "def regrid(\n",
    "    ds: Union[xr.Dataset, str, Path],\n",
    "    *,\n",
    "    method: Optional[str] = \"nearest_s2d\",\n",
    "    adaptive_masking_threshold: Optional[Union[int, float]] = 0.5,\n",
    "    grid: Optional[\n",
    "        Union[xr.Dataset, xr.DataArray, int, float, tuple, str]\n",
    "    ] = \"adaptive\",\n",
    "    output_dir: Optional[Union[str, Path]] = None,\n",
    "    output_type: Optional[str] = \"netcdf\",\n",
    "    split_method: Optional[str] = \"time:auto\",\n",
    "    file_namer: Optional[str] = \"standard\",\n",
    "    keep_attrs: Optional[Union[bool, str]] = True,\n",
    ") -> List[Union[xr.Dataset, str]]   \n",
    "```\n",
    "The different options for the `method`, `grid` and `adaptive_masking_threshold` parameters are described in below sections:\n",
    "\n",
    "*  [clisops.core.Grid](#clisops.core.Grid)\n",
    "*  [clisops.core.Weights](#clisops.core.Weights)\n",
    "*  [clisops.core.regrid](#clisops.core.regrid)\n"
   ]
  },
  {
   "cell_type": "markdown",
   "id": "0aa5d035",
   "metadata": {},
   "source": [
    "### Remap a global `xarray.Dataset` to a global 2.5 degree grid using the bilinear method\n",
    "\n",
    "#### Load the dataset"
   ]
  },
  {
   "cell_type": "code",
   "execution_count": null,
   "id": "09bea3a3",
   "metadata": {},
   "outputs": [],
   "source": [
    "ds_vert_path = Path(MINIESGF, \"badc/cmip6/data/CMIP6/CMIP/MPI-M/MPI-ESM1-2-LR/historical/r1i1p1f1/AERmon/\"\n",
    "                              \"o3/gn/v20190710/o3_AERmon_MPI-ESM1-2-LR_historical_r1i1p1f1_gn_185001.nc\")\n",
    "ds_vert = xr.open_dataset(ds_vert_path)\n",
    "ds_vert"
   ]
  },
  {
   "cell_type": "markdown",
   "id": "3e8e01f4",
   "metadata": {},
   "source": [
    "#### Take a look at the grid"
   ]
  },
  {
   "cell_type": "code",
   "execution_count": null,
   "id": "5ca60d65",
   "metadata": {},
   "outputs": [],
   "source": [
    "# Create 2D coordinate variables\n",
    "lon,lat = np.meshgrid(ds_vert[\"lon\"].data, ds_vert[\"lat\"].data)\n",
    "\n",
    "# Plot\n",
    "plt.figure(figsize=(8,5))\n",
    "plt.scatter(lon[::3, ::3], lat[::3, ::3], s=0.5)  \n",
    "plt.xlabel('lon')\n",
    "plt.ylabel('lat')"
   ]
  },
  {
   "cell_type": "markdown",
   "id": "4a085f74",
   "metadata": {},
   "source": [
    "#### Remap to global 2.5 degree grid with the bilinear method"
   ]
  },
  {
   "cell_type": "code",
   "execution_count": null,
   "id": "f38b21f7",
   "metadata": {},
   "outputs": [],
   "source": [
    "ds_remap = clops.regrid(ds_vert, method=\"bilinear\", grid=\"2pt5deg\", output_type=\"xarray\")[0]\n",
    "ds_remap"
   ]
  },
  {
   "cell_type": "markdown",
   "id": "acbdf431",
   "metadata": {},
   "source": [
    "#### Plot the remapped data next to the source data"
   ]
  },
  {
   "cell_type": "code",
   "execution_count": null,
   "id": "3a18af12",
   "metadata": {},
   "outputs": [],
   "source": [
    "fig, axes = plt.subplots(ncols=2, figsize=(18,4), subplot_kw={'projection': ccrs.PlateCarree()})\n",
    "for ax in axes:\n",
    "    ax.coastlines()\n",
    "\n",
    "# Source data\n",
    "ds_vert.o3.isel(time=0, lev=0).plot.pcolormesh(ax=axes[0], x=\"lon\", y=\"lat\", shading=\"auto\")\n",
    "axes[0].title.set_text(\"Source - MPI-ESM1-2-LR ECHAM6 (T63L47, ~1.9° resolution)\")\n",
    "# Remapped data\n",
    "ds_remap.o3.isel(time=0, lev=0).plot.pcolormesh(ax=axes[1], x=\"lon\", y=\"lat\", shading=\"auto\")\n",
    "axes[1].title.set_text(\"Target - regular lat-lon (2.5° resolution)\")"
   ]
  },
  {
   "cell_type": "markdown",
   "id": "6e63e114",
   "metadata": {},
   "source": [
    "### Remap regional `xarray.Dataset` to a regional grid of adaptive resolution using the bilinear method\n",
    "Adaptive resolution means, that the regular lat-lon target grid will have approximately the same resolution as the source grid."
   ]
  },
  {
   "cell_type": "markdown",
   "id": "6434bcca",
   "metadata": {},
   "source": [
    "#### Load the dataset"
   ]
  },
  {
   "cell_type": "code",
   "execution_count": null,
   "id": "ff637d57",
   "metadata": {},
   "outputs": [],
   "source": [
    "ds_cordex_path = Path(MINIESGF, \"pool/data/CORDEX/data/cordex/output/EUR-22/GERICS/MPI-M-MPI-ESM-LR/\"\n",
    "                                \"rcp85/r1i1p1/GERICS-REMO2015/v1/mon/tas/v20191029/\"\n",
    "                                \"tas_EUR-22_MPI-M-MPI-ESM-LR_rcp85_r1i1p1_GERICS-REMO2015_v1_mon_202101.nc\")\n",
    "ds_cordex = xr.open_dataset(ds_cordex_path)\n",
    "ds_cordex"
   ]
  },
  {
   "cell_type": "markdown",
   "id": "fe1f9feb",
   "metadata": {},
   "source": [
    "#### Take a look at the grid"
   ]
  },
  {
   "cell_type": "code",
   "execution_count": null,
   "id": "ca6661be",
   "metadata": {},
   "outputs": [],
   "source": [
    "plt.figure(figsize=(8,5))\n",
    "plt.scatter(ds_cordex['lon'][::4, ::4], ds_cordex['lat'][::4, ::4], s=0.1)  \n",
    "plt.xlabel('lon')\n",
    "plt.ylabel('lat')"
   ]
  },
  {
   "cell_type": "markdown",
   "id": "280c1bb0",
   "metadata": {},
   "source": [
    "#### Remap to regional regular lat-lon grid of adaptive resolution with the bilinear method"
   ]
  },
  {
   "cell_type": "code",
   "execution_count": null,
   "id": "47cdfe78",
   "metadata": {},
   "outputs": [],
   "source": [
    "ds_remap = clops.regrid(ds_cordex, method=\"bilinear\", grid=\"adaptive\", output_type=\"xarray\")[0]\n",
    "ds_remap"
   ]
  },
  {
   "cell_type": "markdown",
   "id": "6a4d0b86",
   "metadata": {},
   "source": [
    "#### Plot the remapped data next to the source data"
   ]
  },
  {
   "cell_type": "code",
   "execution_count": null,
   "id": "fd8f65b6",
   "metadata": {},
   "outputs": [],
   "source": [
    "fig, axes = plt.subplots(ncols=2, figsize=(18,4), subplot_kw={'projection': ccrs.PlateCarree()})\n",
    "for ax in axes: ax.coastlines()\n",
    "\n",
    "# Source data\n",
    "ds_cordex.tas.isel(time=0).plot.pcolormesh(ax=axes[0], x=\"lon\", y=\"lat\", shading=\"auto\", cmap=\"RdBu_r\")\n",
    "axes[0].title.set_text(\"Source - GERICS-REMO2015 (EUR22, ~0.22° resolution)\")\n",
    "# Remapped data\n",
    "ds_remap.tas.isel(time=0).plot.pcolormesh(ax=axes[1], x=\"lon\", y=\"lat\", shading=\"auto\", cmap=\"RdBu_r\")\n",
    "axes[1].title.set_text(\"Target - regional regular lat-lon (adaptive resolution)\")"
   ]
  },
  {
   "cell_type": "markdown",
   "id": "b0c2a4b6",
   "metadata": {},
   "source": [
    "### Remap unstructured `xarray.Dataset` to a global grid of adaptive resolution using the nearest neighbour method\n",
    "\n",
    "For unstructured grids, at least for the moment, only the nearest neighbour remapping method is supported.\n",
    "\n",
    "#### Load the dataset"
   ]
  },
  {
   "cell_type": "code",
   "execution_count": null,
   "id": "a0b8dc76",
   "metadata": {},
   "outputs": [],
   "source": [
    "ds_icono_path = Path(MINIESGF, \"badc/cmip6/data/CMIP6/CMIP/MPI-M/ICON-ESM-LR/historical/\"\n",
    "                               \"r1i1p1f1/Omon/thetao/gn/v20210215/\"\n",
    "                               \"thetao_Omon_ICON-ESM-LR_historical_r1i1p1f1_gn_185001.nc\")\n",
    "ds_icono = xr.open_dataset(ds_icono_path)\n",
    "ds_icono"
   ]
  },
  {
   "cell_type": "markdown",
   "id": "b6dfc32e",
   "metadata": {},
   "source": [
    "#### Take a look at the grid"
   ]
  },
  {
   "cell_type": "code",
   "execution_count": null,
   "id": "998dcd7a",
   "metadata": {},
   "outputs": [],
   "source": [
    "plt.figure(figsize=(16,9))\n",
    "plt.scatter(ds_icono['longitude'][::2], ds_icono['latitude'][::2], s=0.05)  \n",
    "plt.xlabel('lon')\n",
    "plt.ylabel('lat')"
   ]
  },
  {
   "cell_type": "markdown",
   "id": "56f0f48b",
   "metadata": {},
   "source": [
    "#### Remap to global grid of adaptive resolution with the nearest neighbour method"
   ]
  },
  {
   "cell_type": "code",
   "execution_count": null,
   "id": "2f68a902",
   "metadata": {},
   "outputs": [],
   "source": [
    "ds_remap = clops.regrid(ds_icono, method=\"nearest_s2d\", grid=\"adaptive\", output_type=\"xarray\")[0]\n",
    "ds_remap"
   ]
  },
  {
   "cell_type": "markdown",
   "id": "9d0459c6",
   "metadata": {},
   "source": [
    "#### Plot source data and remapped data\n",
    "\n",
    "(Using [psyplot](https://psyplot.github.io/) to plot the unstructured data since xarray does not (yet?) support it.)"
   ]
  },
  {
   "cell_type": "code",
   "execution_count": null,
   "id": "31d53774",
   "metadata": {},
   "outputs": [],
   "source": [
    "# Source data\n",
    "maps=psy.plot.mapplot(ds_icono_path, cmap=\"RdBu_r\", title=\"Source - ICON-ESM-LR ICON-O (Ruby-0, 40km resolution)\", \n",
    "                      time=[0], lev=[0])"
   ]
  },
  {
   "cell_type": "code",
   "execution_count": null,
   "id": "a5fc5d12",
   "metadata": {},
   "outputs": [],
   "source": [
    "# Remapped data\n",
    "plt.figure(figsize=(9,4));\n",
    "ax = plt.axes(projection=ccrs.PlateCarree());\n",
    "ds_remap.thetao.isel(time=0, lev=0).plot.pcolormesh(ax=ax, x=\"lon\", y=\"lat\", shading=\"auto\",\n",
    "                                                    cmap=\"RdBu_r\", vmin = -1, vmax=40)\n",
    "ax.title.set_text(\"Target - regular lat-lon (adaptive resolution)\")\n",
    "ax.coastlines()"
   ]
  },
  {
   "cell_type": "markdown",
   "id": "31ca8f33",
   "metadata": {},
   "source": [
    "<a id='clisops.core.Grid'></a>\n",
    "\n",
    "## `clisops.core.Grid`"
   ]
  },
  {
   "cell_type": "markdown",
   "id": "418e5f4d",
   "metadata": {},
   "source": [
    "### Create a grid object from an `xarray.Dataset`\n",
    "\n",
    "#### Load the dataset"
   ]
  },
  {
   "cell_type": "code",
   "execution_count": null,
   "id": "8db00e2c",
   "metadata": {},
   "outputs": [],
   "source": [
    "dso_path = Path(MINIESGF, \"badc/cmip6/data/CMIP6/CMIP/MPI-M/MPI-ESM1-2-HR/historical/r1i1p1f1/Omon/tos/gn/\"\n",
    "                          \"v20190710/tos_Omon_MPI-ESM1-2-HR_historical_r1i1p1f1_gn_185001.nc\")\n",
    "dso = xr.open_dataset(dso_path)\n",
    "dso"
   ]
  },
  {
   "cell_type": "markdown",
   "id": "63ca9978",
   "metadata": {},
   "source": [
    "#### Create the Grid object"
   ]
  },
  {
   "cell_type": "code",
   "execution_count": null,
   "id": "462bba5d",
   "metadata": {},
   "outputs": [],
   "source": [
    "grido = clore.Grid(ds=dso)\n",
    "grido"
   ]
  },
  {
   "cell_type": "markdown",
   "id": "4daaa5d9",
   "metadata": {},
   "source": [
    "The `xarray.Dataset` is attached to the `clisops.core.Grid` object. Auxiliary coordinates and data variables have been (re)set appropriately."
   ]
  },
  {
   "cell_type": "code",
   "execution_count": null,
   "id": "4bb185c4",
   "metadata": {},
   "outputs": [],
   "source": [
    "grido.ds"
   ]
  },
  {
   "cell_type": "markdown",
   "id": "3a0a8abc",
   "metadata": {},
   "source": [
    "#### Plot the data"
   ]
  },
  {
   "cell_type": "code",
   "execution_count": null,
   "id": "cee07078",
   "metadata": {},
   "outputs": [],
   "source": [
    "plt.figure(figsize=(9,4))\n",
    "ax = plt.axes(projection=ccrs.PlateCarree())\n",
    "grido.ds.tos.isel(time=0).plot.pcolormesh(ax=ax, x=grido.lon, y=grido.lat, shading=\"auto\",\n",
    "                                          cmap=\"RdBu_r\", vmin = -1, vmax=40)\n",
    "ax.coastlines()"
   ]
  },
  {
   "cell_type": "markdown",
   "id": "19d1681f",
   "metadata": {},
   "source": [
    "### Create a grid object from an `xarray.DataArray`\n",
    "\n",
    "Note that `xarray.DataArray` objects do not support the bounds of coordinate variables to be defined.\n",
    "\n",
    "#### Extract tos `DataArray`"
   ]
  },
  {
   "cell_type": "code",
   "execution_count": null,
   "id": "809a9293",
   "metadata": {},
   "outputs": [],
   "source": [
    "dao = dso.tos\n",
    "dao"
   ]
  },
  {
   "cell_type": "markdown",
   "id": "e7a5dde9",
   "metadata": {},
   "source": [
    "#### Create Grid object for MPIOM tos dataarray:"
   ]
  },
  {
   "cell_type": "code",
   "execution_count": null,
   "id": "5e98d6cf",
   "metadata": {},
   "outputs": [],
   "source": [
    "grido_tos = clore.Grid(ds=dao)\n",
    "grido_tos"
   ]
  },
  {
   "cell_type": "markdown",
   "id": "3af96e5f",
   "metadata": {},
   "source": [
    "### Create a grid object using a `grid_instructor`\n",
    "\n",
    "* global grid: `grid_instructor = (lon_step, lat_step)` or `grid_instructor = step`\n",
    "* regional grid:`grid_instructor = (lon_start, lon_end, lon_step, lat_start, lat_end, lat_step)` or `grid_instructor = (start, end, step)` "
   ]
  },
  {
   "cell_type": "code",
   "execution_count": null,
   "id": "ac51c540",
   "metadata": {},
   "outputs": [],
   "source": [
    "grid_1deg = clore.Grid(grid_instructor=1)\n",
    "grid_1deg"
   ]
  },
  {
   "cell_type": "code",
   "execution_count": null,
   "id": "a03f9f6e",
   "metadata": {},
   "outputs": [],
   "source": [
    "grid_1degx2deg_regional = clore.Grid(grid_instructor=(0., 90., 1., 35., 50., 2. ))\n",
    "grid_1degx2deg_regional"
   ]
  },
  {
   "cell_type": "markdown",
   "id": "b2473fa8",
   "metadata": {},
   "source": [
    "### Create a grid object using a `grid_id`\n",
    "\n",
    "Makes use of the predefined grids of `roocs_grids`, which is a collection of grids used for example for the [IPCC Atlas](https://github.com/IPCC-WG1/Atlas/tree/main/reference-grids) and for [CMIP6 Regridding Weights generation](https://docs.google.com/document/d/1BfVVsKAk9MAsOYstwFSWI2ZBt5mrO_Nmcu7rLGDuL08/edit)."
   ]
  },
  {
   "cell_type": "code",
   "execution_count": null,
   "id": "744ba37b",
   "metadata": {},
   "outputs": [],
   "source": [
    "for key, gridinfo in grid_annotations.items(): print(f\"- {key:20} {gridinfo}\")"
   ]
  },
  {
   "cell_type": "code",
   "execution_count": null,
   "id": "243cf573",
   "metadata": {},
   "outputs": [],
   "source": [
    "grid_era5 = clore.Grid(grid_id = \"0pt25deg_era5\")\n",
    "grid_era5"
   ]
  },
  {
   "cell_type": "markdown",
   "id": "d436424c",
   "metadata": {},
   "source": [
    "### `clisops.core.Grid` objects can be compared to one another\n",
    "\n",
    "Optional verbose output gives information on where the grids differ: lat, lon, lat_bnds, lon_bnds, mask?\n",
    "\n",
    "#### Compare the tos dataset to the tos dataarray"
   ]
  },
  {
   "cell_type": "code",
   "execution_count": null,
   "id": "45888a28",
   "metadata": {},
   "outputs": [],
   "source": [
    "comp = grido.compare_grid(grido_tos, verbose = True)\n",
    "print(\"Grids are equal?\", comp)"
   ]
  },
  {
   "cell_type": "markdown",
   "id": "41bca466",
   "metadata": {},
   "source": [
    "#### Compare both 0.25° ERA5 Grids"
   ]
  },
  {
   "cell_type": "code",
   "execution_count": null,
   "id": "f9468e89",
   "metadata": {},
   "outputs": [],
   "source": [
    "# Create the Grid object\n",
    "grid_era5_lsm = clore.Grid(grid_id = \"0pt25deg_era5_lsm\", compute_bounds=True)"
   ]
  },
  {
   "cell_type": "code",
   "execution_count": null,
   "id": "07338d79",
   "metadata": {},
   "outputs": [],
   "source": [
    "# Compare\n",
    "comp = grid_era5.compare_grid(grid_era5_lsm, verbose=True)\n",
    "print(\"Grids are equal?\", comp)"
   ]
  },
  {
   "cell_type": "markdown",
   "id": "5f358d9f",
   "metadata": {},
   "source": [
    "### Strip `clisops.core.Grid` objects of all `data_vars` and `coords` unrelated to the horizontal grid"
   ]
  },
  {
   "cell_type": "code",
   "execution_count": null,
   "id": "b55721a2",
   "metadata": {},
   "outputs": [],
   "source": [
    "grid_era5_lsm.ds"
   ]
  },
  {
   "cell_type": "markdown",
   "id": "84b24eb6",
   "metadata": {},
   "source": [
    "The parameter `keep_attrs` can be set, the default is `False`."
   ]
  },
  {
   "cell_type": "code",
   "execution_count": null,
   "id": "3592a2ab",
   "metadata": {},
   "outputs": [],
   "source": [
    "grid_era5_lsm._drop_vars(keep_attrs=False)\n",
    "grid_era5_lsm.ds"
   ]
  },
  {
   "cell_type": "markdown",
   "id": "1f198140",
   "metadata": {},
   "source": [
    "### Transfer coordinate variables between `clisops.core.Grid` objects that are unrelated to the horizontal grid\n",
    "\n",
    "The parameter `keep_attrs` can be set, the default is `True`. All settings for `keep_attrs` are described later in section [clisops.core.regrid](#clisops.core.regrid).\n",
    "\n",
    "#### Load the dataset"
   ]
  },
  {
   "cell_type": "code",
   "execution_count": null,
   "id": "c138fdac",
   "metadata": {},
   "outputs": [],
   "source": [
    "ds_vert_path = Path(MINIESGF, \"badc/cmip6/data/CMIP6/CMIP/MPI-M/MPI-ESM1-2-LR/historical/r1i1p1f1/\"\n",
    "                              \"AERmon/o3/gn/v20190710/o3_AERmon_MPI-ESM1-2-LR_historical_r1i1p1f1_gn_185001.nc\")\n",
    "ds_vert = xr.open_dataset(ds_vert_path)\n",
    "ds_vert"
   ]
  },
  {
   "cell_type": "markdown",
   "id": "b7a6c965",
   "metadata": {},
   "source": [
    "#### Create grid object"
   ]
  },
  {
   "cell_type": "code",
   "execution_count": null,
   "id": "7aae205d",
   "metadata": {},
   "outputs": [],
   "source": [
    "grid_vert = clore.Grid(ds_vert)\n",
    "grid_vert"
   ]
  },
  {
   "cell_type": "markdown",
   "id": "331f439e",
   "metadata": {},
   "source": [
    "#### Transfer the coordinates to the ERA5 grid object"
   ]
  },
  {
   "cell_type": "code",
   "execution_count": null,
   "id": "dab5a30d",
   "metadata": {},
   "outputs": [],
   "source": [
    "grid_era5_lsm._transfer_coords(grid_vert, keep_attrs=True)\n",
    "grid_era5_lsm.ds"
   ]
  },
  {
   "cell_type": "markdown",
   "id": "e0250662",
   "metadata": {},
   "source": [
    "<a id='clisops.core.Weights'></a>\n",
    "\n",
    "## `clisops.core.Weights`\n",
    "\n",
    "Create regridding weights to regrid between two grids. Supported are the following of [xESMF's remapping methods](https://pangeo-xesmf.readthedocs.io/en/latest/notebooks/Compare_algorithms.html):\n",
    "* `nearest_s2d`\n",
    "* `bilinear`\n",
    "* `conservative`\n",
    "* `patch`"
   ]
  },
  {
   "cell_type": "markdown",
   "id": "37266736",
   "metadata": {},
   "source": [
    "### Create 2-degree target grid"
   ]
  },
  {
   "cell_type": "code",
   "execution_count": null,
   "id": "8c11b864",
   "metadata": {},
   "outputs": [],
   "source": [
    "grid_2deg = clore.Grid(grid_id=\"2deg_lsm\", compute_bounds=True)\n",
    "grid_2deg"
   ]
  },
  {
   "cell_type": "markdown",
   "id": "3e912197",
   "metadata": {},
   "source": [
    "### Create conservative remapping weights using the `clisops.core.Weights` class\n",
    "`grid_in` and `grid_out` are `Grid` objects"
   ]
  },
  {
   "cell_type": "code",
   "execution_count": null,
   "id": "67480170",
   "metadata": {},
   "outputs": [],
   "source": [
    "%time weights = clore.Weights(grid_in = grido, grid_out = grid_2deg, method=\"conservative\")"
   ]
  },
  {
   "cell_type": "markdown",
   "id": "db9fdde3",
   "metadata": {},
   "source": [
    "### Local weights cache\n",
    "\n",
    "Weights are cached on disk and do not have to be created more than once. The default cache directory is `/tmp/clisops_grid_weights` and should be adjusted either in the `roocs.ini` configuration file that can be found in the clisops installation directory or via:\n",
    "```python\n",
    "from clisops import core as clore\n",
    "clore.weights_cache_init(\"/dir/for/weights/cache\")\n",
    "```"
   ]
  },
  {
   "cell_type": "code",
   "execution_count": null,
   "id": "0b21f10e",
   "metadata": {},
   "outputs": [],
   "source": [
    "!ls -sh /tmp/clisops_grid_weights"
   ]
  },
  {
   "cell_type": "code",
   "execution_count": null,
   "id": "b762418f",
   "metadata": {},
   "outputs": [],
   "source": [
    "!cat /tmp/clisops_grid_weights/weights_*_conservative.json"
   ]
  },
  {
   "cell_type": "markdown",
   "id": "46ed2631",
   "metadata": {},
   "source": [
    "Now the weights will be read directly from the cache"
   ]
  },
  {
   "cell_type": "code",
   "execution_count": null,
   "id": "734b0888",
   "metadata": {},
   "outputs": [],
   "source": [
    "%time weights = clore.Weights(grid_in = grido, grid_out = grid_2deg, method=\"conservative\")"
   ]
  },
  {
   "cell_type": "markdown",
   "id": "83e7a856",
   "metadata": {},
   "source": [
    "The weights cache can be flushed, which removes all weight and grid files as well as the json files holding the metadata. To see what would be removed, one can use the `dryrun=True` parameter. To re-initialize the weights cache in a different directory, one can use the `weights_dir_init=\"/new/dir/for/weights/cache\"` parameter. Even when re-initializing the weights cache under a new path, using `clore.weights_cache_flush`, no directory is getting removed, only above listed files. When `dryrun` is not set, the files that are getting deleted can be displayed with `verbose=True`."
   ]
  },
  {
   "cell_type": "code",
   "execution_count": null,
   "id": "5c525707",
   "metadata": {},
   "outputs": [],
   "source": [
    "clore.weights_cache_flush(dryrun=True)"
   ]
  },
  {
   "cell_type": "code",
   "execution_count": null,
   "id": "6fde9539",
   "metadata": {},
   "outputs": [],
   "source": [
    "clore.weights_cache_flush(verbose=True)"
   ]
  },
  {
   "cell_type": "markdown",
   "id": "e66a563f",
   "metadata": {},
   "source": [
    "<a id='clisops.core.regrid'></a>\n",
    "\n",
    "## `clisops.core.regrid`\n",
    "\n",
    "This function allows to perform the eventual regridding and provides a resulting `xarray.Dataset`\n",
    "\n",
    "```python\n",
    "def regrid(\n",
    "    grid_in: Grid,\n",
    "    grid_out: Grid,\n",
    "    weights: Weights,\n",
    "    adaptive_masking_threshold: Optional[float] = 0.5,\n",
    "    keep_attrs: Optional[bool] = True,\n",
    "):\n",
    "```\n",
    "\n",
    "*  `grid_in` and `grid_out` are `Grid` objects, `weights` is a `Weights` object.\n",
    "*  `adaptive_masking_threshold` (AMT) A value within the [0., 1.] interval that defines the maximum `RATIO` of missing_values amongst the total number of data values contributing to the calculation of the target grid cell value. For a fraction [0., AMT[ of the contributing source data missing, the target grid cell will be set to missing_value, else, it will be re-normalized by the factor `1./(1.-RATIO)`. Thus, if AMT is set to 1, all source grid cells that contribute to a target grid cell must be missing in order for the target grid cell to be defined as missing itself. Values greater than 1 or less than 0 will cause adaptive masking to be turned off. This adaptive masking technique allows to reuse generated weights for differently masked data (e.g. land-sea masks or orographic masks that vary with depth / height).\n",
    "* `keep_attrs` can have the following settings:\n",
    "  *  `True` : The resulting `xarray.Dataset` will have all attributes of `grid_in.ds.attrs`, despite attributes that have to be added and altered due to the new grid. \n",
    "  *  `False` : The resulting `xarray.Dataset` will have no attributes despite attributes generated by the regridding process.\n",
    "  *  `\"target\"` : The resulting `xarray.Dataset` will have all attributes of `grid_out.ds.attrs`, despite attributes generated by the regridding process. Not recommended.\n",
    "  \n",
    "  \n",
    "### In the following an example showing the function application and the effect of the adaptive masking."
   ]
  },
  {
   "cell_type": "code",
   "execution_count": null,
   "id": "c1f50b0f",
   "metadata": {},
   "outputs": [],
   "source": [
    "ds_out_amt0 = clore.regrid(grido, grid_2deg, weights, adaptive_masking_threshold=-1)"
   ]
  },
  {
   "cell_type": "code",
   "execution_count": null,
   "id": "bb325c4c",
   "metadata": {},
   "outputs": [],
   "source": [
    "ds_out_amt1 = clore.regrid(grido, grid_2deg, weights, adaptive_masking_threshold=0.5)"
   ]
  },
  {
   "cell_type": "markdown",
   "id": "5c8ba0ae",
   "metadata": {},
   "source": [
    "#### Plot the resulting data"
   ]
  },
  {
   "cell_type": "code",
   "execution_count": null,
   "id": "8a220b89",
   "metadata": {},
   "outputs": [],
   "source": [
    "# Create panel plot of regridded data (global)\n",
    "fig, axes = plt.subplots(ncols=2, nrows=1, \n",
    "                         figsize=(18, 5), # global\n",
    "                         subplot_kw={'projection': ccrs.PlateCarree()})\n",
    "\n",
    "ds_out_amt0[\"tos\"].isel(time=0).plot.pcolormesh(ax=axes[0], vmin=0, vmax=30, cmap=\"plasma\")\n",
    "axes[0].title.set_text(\"Target (2° regular lat-lon) - No adaptive masking\")\n",
    "\n",
    "ds_out_amt1[\"tos\"].isel(time=0).plot.pcolormesh(ax=axes[1], vmin=0, vmax=30, cmap=\"plasma\")\n",
    "axes[1].title.set_text(\"Target (2° regular lat-lon) - Adaptive masking\")\n",
    "\n",
    "for axis in axes.flatten():\n",
    "    axis.coastlines()\n",
    "    axis.set_xlabel('lon')\n",
    "    axis.set_ylabel('lat')"
   ]
  },
  {
   "cell_type": "code",
   "execution_count": null,
   "id": "2ab66990",
   "metadata": {},
   "outputs": [],
   "source": [
    "# Create panel plot of regridded data (Japan)\n",
    "fig, axes = plt.subplots(ncols=3, nrows=1, \n",
    "                         figsize=(18, 4), # Japan\n",
    "                         subplot_kw={'projection': ccrs.PlateCarree()})\n",
    "\n",
    "grido.ds.tos.isel(time=0).plot.pcolormesh(ax=axes[0], x=grido.lon, y=grido.lat, \n",
    "                                          vmin=0, vmax=30, cmap=\"plasma\", shading=\"auto\")\n",
    "axes[0].title.set_text(\"Source - MPI-ESM1-2-HR MPIOM (TP04, ~0.4° resolution)\")\n",
    "\n",
    "ds_out_amt0[\"tos\"].isel(time=0).plot.pcolormesh(ax=axes[1], vmin=0, vmax=30, cmap=\"plasma\")\n",
    "axes[1].title.set_text(\"Target - No adaptive masking\")\n",
    "\n",
    "ds_out_amt1[\"tos\"].isel(time=0).plot.pcolormesh(ax=axes[2], vmin=0, vmax=30, cmap=\"plasma\")\n",
    "axes[2].title.set_text(\"Target - Adaptive masking\")\n",
    "\n",
    "for axis in axes.flatten():\n",
    "    axis.coastlines()\n",
    "    axis.set_xlabel('lon')\n",
    "    axis.set_ylabel('lat')\n",
    "    axis.set_xlim([125, 150])\n",
    "    axis.set_ylim([25, 50])"
   ]
  }
 ],
 "metadata": {
  "kernelspec": {
   "display_name": "Python 3",
   "language": "python",
   "name": "python3"
  },
  "language_info": {
   "codemirror_mode": {
    "name": "ipython",
    "version": 3
   },
   "file_extension": ".py",
   "mimetype": "text/x-python",
   "name": "python",
   "nbconvert_exporter": "python",
   "pygments_lexer": "ipython3",
   "version": "3.10.5"
  }
 },
 "nbformat": 4,
 "nbformat_minor": 5
}
