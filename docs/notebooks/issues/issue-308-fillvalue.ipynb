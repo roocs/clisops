{
 "cells": [
  {
   "cell_type": "markdown",
   "id": "537a3b16-0633-46bd-b86c-80e86128dc11",
   "metadata": {},
   "source": [
    "# Working on issue 308\n",
    "\n",
    "https://github.com/roocs/clisops/issues/308"
   ]
  },
  {
   "cell_type": "code",
   "execution_count": null,
   "id": "66aa9963-5a32-48fd-974c-e5c90cda0d5e",
   "metadata": {},
   "outputs": [],
   "source": [
    "from clisops.ops import subset\n",
    "from roocs_utils.parameter.param_utils import (\n",
    "    time_interval,\n",
    ")"
   ]
  },
  {
   "cell_type": "code",
   "execution_count": null,
   "id": "1675c5b7-3398-4334-a6ab-09a1fea73d32",
   "metadata": {},
   "outputs": [],
   "source": [
    "ds_url = \"https://data.mips.copernicus-climate.eu/thredds/fileServer/esg_c3s-cmip6/CMIP/NCAR/CESM2-WACCM/historical/r1i1p1f1/day/tas/gn/v20190227/tas_day_CESM2-WACCM_historical_r1i1p1f1_gn_20000101-20091231.nc\"\n",
    "ds_url"
   ]
  },
  {
   "cell_type": "code",
   "execution_count": null,
   "id": "dfef3d01-41b3-47ec-a117-52ec1497c431",
   "metadata": {},
   "outputs": [],
   "source": [
    "ds_file = f\"/tmp/{ds_url.split('/')[-1]}\"\n",
    "ds_file"
   ]
  },
  {
   "cell_type": "code",
   "execution_count": null,
   "id": "9628122a-2206-4187-84fd-b9384aa30f88",
   "metadata": {},
   "outputs": [],
   "source": [
    "!wget -N $ds_url -P /tmp"
   ]
  },
  {
   "cell_type": "code",
   "execution_count": null,
   "id": "bee42a81-e1fc-4d86-8dc6-56db2bdef72c",
   "metadata": {},
   "outputs": [],
   "source": [
    "result = subset(\n",
    "    ds=ds_file,\n",
    "    time=time_interval(\"2000-01-01T00:00:00\", \"2000-12-30T00:00:00\"),\n",
    "    # area=(0, -90.0, 360.0, 90.0),\n",
    "    # output_dir=tmpdir,\n",
    "    # output_type=\"nc\",\n",
    "    # file_namer=\"simple\",\n",
    ")"
   ]
  }
 ],
 "metadata": {
  "kernelspec": {
   "display_name": "Python 3 (ipykernel)",
   "language": "python",
   "name": "python3"
  },
  "language_info": {
   "codemirror_mode": {
    "name": "ipython",
    "version": 3
   },
   "file_extension": ".py",
   "mimetype": "text/x-python",
   "name": "python",
   "nbconvert_exporter": "python",
   "pygments_lexer": "ipython3",
   "version": "3.11.6"
  }
 },
 "nbformat": 4,
 "nbformat_minor": 5
}
